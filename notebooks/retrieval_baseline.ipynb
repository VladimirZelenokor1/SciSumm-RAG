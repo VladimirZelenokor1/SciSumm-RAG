{
 "cells": [
  {
   "cell_type": "code",
   "id": "initial_id",
   "metadata": {
    "collapsed": true,
    "ExecuteTime": {
     "end_time": "2025-07-10T17:39:49.056607Z",
     "start_time": "2025-07-10T17:39:09.208475Z"
    }
   },
   "source": [
    "# Retrieval Baseline Evaluation\n",
    "\n",
    "## 1. Loading Embeddings and FAISS-index\n",
    "\n",
    "from pathlib import Path\n",
    "import sys\n",
    "import numpy as np\n",
    "import faiss\n",
    "from src.retriever.index import load_embeddings, load_index\n",
    "\n",
    "# Auto-detection project_root: go up until we find data/clean/embeddings.npy\n",
    "root = Path.cwd()\n",
    "while not (root / \"data\" / \"clean\" / \"embeddings.npy\").exists():\n",
    "    # if we get to the root of the file system - exit with an error\n",
    "    if root.parent == root:\n",
    "        raise RuntimeError(\"Could not find the folder data/clean/embeddings.npy\")\n",
    "    root = root.parent\n",
    "\n",
    "project_root = root\n",
    "print(\"project_root:\", project_root)\n",
    "\n",
    "# Paths\n",
    "clean_dir = project_root / \"data\" / \"clean\"\n",
    "index_dir = project_root / \"data\" / \"index\"\n",
    "\n",
    "emb_path = clean_dir / \"embeddings.npy\"\n",
    "ids_path = clean_dir / \"ids.json\"\n",
    "\n",
    "flat_index_path   = index_dir / \"faiss_flat_ip.index\"\n",
    "flat_ids_path     = index_dir / \"ids_flat_ip.json\"\n",
    "ivfopq_index_path = index_dir / \"faiss_ivfopq.index\"\n",
    "ivfopq_ids_path   = index_dir / \"ids_ivfopq.json\"\n",
    "\n",
    "# To make importing src/... works\n",
    "sys.path.append(str(project_root))\n",
    "\n",
    "print(\"project_root:\", project_root)\n",
    "print(\"embeddings exists:\", emb_path.exists(), emb_path)\n",
    "print(\"ids exists:       \", ids_path.exists(), ids_path)\n",
    "\n",
    "ids, vecs = load_embeddings(Path(emb_path), Path(ids_path))\n",
    "# turn each [paper_id, section, chunk_id] into a tuple\n",
    "ids = [tuple(x) for x in ids]\n",
    "\n",
    "index, _ = load_index(Path(flat_index_path), Path(flat_ids_path))\n",
    "vecs = vecs.astype('float32')  "
   ],
   "outputs": [
    {
     "name": "stdout",
     "output_type": "stream",
     "text": [
      "project_root: D:\\SciSumm-RAG\n",
      "project_root: D:\\SciSumm-RAG\n",
      "embeddings exists: True D:\\SciSumm-RAG\\data\\clean\\embeddings.npy\n",
      "ids exists:        True D:\\SciSumm-RAG\\data\\clean\\ids.json\n"
     ]
    }
   ],
   "execution_count": 20
  },
  {
   "metadata": {
    "ExecuteTime": {
     "end_time": "2025-07-10T17:40:05.456633Z",
     "start_time": "2025-07-10T17:39:55.196808Z"
    }
   },
   "cell_type": "code",
   "source": [
    "import json\n",
    "\n",
    "# Loading chunk_texts mapping from JSONL file\n",
    "chunks_file = clean_dir / \"chunks.jsonl\" \n",
    "chunk_texts = {}\n",
    "with open(chunks_file, \"r\", encoding=\"utf-8\") as f:\n",
    "    for line in f:\n",
    "        pid, section, cid, txt = json.loads(line)\n",
    "        chunk_texts[(pid, section, cid)] = txt"
   ],
   "id": "3dc2066680b07fd0",
   "outputs": [],
   "execution_count": 21
  },
  {
   "metadata": {
    "ExecuteTime": {
     "end_time": "2025-07-10T18:02:06.073214Z",
     "start_time": "2025-07-10T17:40:23.557907Z"
    }
   },
   "cell_type": "code",
   "source": [
    "# Now we get the top-k fragments and reassemble the text\n",
    "top_k = 5\n",
    "query_vec = vecs[0:1]\n",
    "D, I = index.search(query_vec, top_k)\n",
    "ids_for_query = [ids[idx] for idx in I[0]]\n",
    "\n",
    "txt = \"\\n\\n\".join([chunk_texts[c] for c in ids_for_query])\n",
    "\n",
    "from src.generator.hf_summarizer import generate_summary_hf\n",
    "summary = generate_summary_hf(\n",
    "    txt,\n",
    "    max_length=200,\n",
    "    min_length=50\n",
    ")\n",
    "print(summary)"
   ],
   "id": "30bd4a12699b12a9",
   "outputs": [
    {
     "name": "stderr",
     "output_type": "stream",
     "text": [
      "D:\\SciSumm-RAG\\venv\\Lib\\site-packages\\huggingface_hub\\file_download.py:143: UserWarning: `huggingface_hub` cache-system uses symlinks by default to efficiently store duplicated files but your machine does not support them in C:\\Users\\zelen\\.cache\\huggingface\\hub\\models--sshleifer--distilbart-cnn-12-6. Caching files will still work but in a degraded version that might require more space on your disk. This warning can be disabled by setting the `HF_HUB_DISABLE_SYMLINKS_WARNING` environment variable. For more details, see https://huggingface.co/docs/huggingface_hub/how-to-cache#limitations.\n",
      "To support symlinks on Windows, you either need to activate Developer Mode or to run Python as an administrator. In order to activate developer mode, see this article: https://docs.microsoft.com/en-us/windows/apps/get-started/enable-your-device-for-development\n",
      "  warnings.warn(message)\n",
      "Device set to use cuda:0\n"
     ]
    },
    {
     "name": "stdout",
     "output_type": "stream",
     "text": [
      "This work addresses the inverse identification of apparent elastic properties of random heterogeneous materials using machine learning based on artificial neural networks . The proposed neural network-based identification method requires the construction of a database from which an artificial neural network can be trained to learn the relationship between the hyperparameters of a prior stochastic model of the random compliance field and some relevant quantities of interest .\n"
     ]
    }
   ],
   "execution_count": 22
  },
  {
   "metadata": {
    "ExecuteTime": {
     "end_time": "2025-07-10T18:27:03.560218Z",
     "start_time": "2025-07-10T18:24:53.917086Z"
    }
   },
   "cell_type": "code",
   "source": [
    "# measure recall@k on a subsample (test_faiss_search.py script)\n",
    "!python ../test_faiss_search.py --embeddings ../data/clean/embeddings.npy --ids ../data/clean/ids.json --index ../data/index/faiss_flat_ip.index --mode flat --topk 5 --sample-size 500"
   ],
   "id": "489e485565acb98b",
   "outputs": [
    {
     "name": "stdout",
     "output_type": "stream",
     "text": [
      "Loading embeddings and IDs...\n",
      "Loaded 2895000 vectors of dim 384\n",
      "Normalizing embeddings...\n",
      "Loading index from ..\\data\\index\\faiss_flat_ip.index...\n",
      "Evaluating recall@5 on sample of 500... \n",
      "Same-paper recall@5: 1.000\n",
      "Running simple search on first query...\n",
      "[([2011.11761, 'Unknown', 'Unknown__0'], 1.0), ([2011.11761, 'Unknown', 'Unknown__4'], 0.9239822626113892), ([2011.11761, 'Unknown', 'Unknown__3'], 0.9239822626113892), ([2011.11761, 'Unknown', 'Unknown__2'], 0.9239822626113892), ([2011.11761, 'Unknown', 'Unknown__1'], 0.9239822626113892)]\n"
     ]
    }
   ],
   "execution_count": 32
  },
  {
   "metadata": {},
   "cell_type": "code",
   "outputs": [],
   "execution_count": null,
   "source": "",
   "id": "b71096107f1bffe7"
  }
 ],
 "metadata": {
  "kernelspec": {
   "display_name": "Python 3",
   "language": "python",
   "name": "python3"
  },
  "language_info": {
   "codemirror_mode": {
    "name": "ipython",
    "version": 2
   },
   "file_extension": ".py",
   "mimetype": "text/x-python",
   "name": "python",
   "nbconvert_exporter": "python",
   "pygments_lexer": "ipython2",
   "version": "2.7.6"
  }
 },
 "nbformat": 4,
 "nbformat_minor": 5
}
