{
 "cells": [
  {
   "cell_type": "code",
   "id": "initial_id",
   "metadata": {
    "collapsed": true,
    "ExecuteTime": {
     "end_time": "2025-07-13T16:04:07.411797Z",
     "start_time": "2025-07-13T16:04:01.644982Z"
    }
   },
   "source": [
    "import os\n",
    "import sys\n",
    "import pandas as pd\n",
    "from pathlib import Path\n",
    "from tqdm.auto import tqdm\n",
    "from transformers import pipeline, BartTokenizerFast\n",
    "import evaluate"
   ],
   "outputs": [
    {
     "name": "stderr",
     "output_type": "stream",
     "text": [
      "D:\\SciSumm-RAG\\venv\\Lib\\site-packages\\tqdm\\auto.py:21: TqdmWarning: IProgress not found. Please update jupyter and ipywidgets. See https://ipywidgets.readthedocs.io/en/stable/user_install.html\n",
      "  from .autonotebook import tqdm as notebook_tqdm\n"
     ]
    }
   ],
   "execution_count": 1
  },
  {
   "metadata": {
    "ExecuteTime": {
     "end_time": "2025-07-13T16:04:14.725014Z",
     "start_time": "2025-07-13T16:04:14.721725Z"
    }
   },
   "cell_type": "code",
   "source": [
    "root = Path(os.getcwd()).parent\n",
    "sys.path.insert(0, str(root))\n",
    "sys.path.insert(0, str(root / \"src\"))\n",
    "\n",
    "project_root = root\n",
    "\n",
    "val_csv      = project_root / \"data\" / \"training\" / \"validation_pairs.csv\"\n",
    "FT_ROOT      = project_root / \"experiments\" / \"bart-finetune\""
   ],
   "id": "960fa32c5b40bf01",
   "outputs": [],
   "execution_count": 2
  },
  {
   "metadata": {
    "ExecuteTime": {
     "end_time": "2025-07-13T16:04:16.293283Z",
     "start_time": "2025-07-13T16:04:16.276654Z"
    }
   },
   "cell_type": "code",
   "source": [
    "# (baseline + finetuned)\n",
    "model_paths = {\"baseline\": \"sshleifer/distilbart-cnn-12-6\"}\n",
    "for cfg_dir in FT_ROOT.iterdir():\n",
    "    best = cfg_dir / \"best-model\"\n",
    "    if best.is_dir():\n",
    "        model_paths[cfg_dir.name] = str(best)"
   ],
   "id": "a8663debef25195f",
   "outputs": [],
   "execution_count": 3
  },
  {
   "metadata": {
    "ExecuteTime": {
     "end_time": "2025-07-13T16:04:17.889758Z",
     "start_time": "2025-07-13T16:04:17.859211Z"
    }
   },
   "cell_type": "code",
   "source": [
    "df_val = pd.read_csv(val_csv)\n",
    "texts  = df_val[\"body\"].tolist()\n",
    "refs   = df_val[\"abstract\"].tolist()"
   ],
   "id": "fdd3be0dfd579698",
   "outputs": [],
   "execution_count": 4
  },
  {
   "metadata": {
    "ExecuteTime": {
     "end_time": "2025-07-13T16:04:32.253187Z",
     "start_time": "2025-07-13T16:04:19.492451Z"
    }
   },
   "cell_type": "code",
   "source": "rouge = evaluate.load(\"rouge\")",
   "id": "6217bb1163ae05e4",
   "outputs": [],
   "execution_count": 5
  },
  {
   "metadata": {
    "ExecuteTime": {
     "end_time": "2025-07-13T16:40:37.158258Z",
     "start_time": "2025-07-13T16:04:35.021341Z"
    }
   },
   "cell_type": "code",
   "source": [
    "results = []\n",
    "for name, model_id in model_paths.items():\n",
    "    print(f\"→ Evaluating {name}\")\n",
    "    # pipeline truncate \n",
    "    tokenizer = BartTokenizerFast.from_pretrained(model_id)\n",
    "    summarizer = pipeline(\n",
    "        \"summarization\",\n",
    "        model=model_id,\n",
    "        tokenizer=tokenizer,\n",
    "        device=0 if os.getenv(\"CUDA_VISIBLE_DEVICES\") else -1,\n",
    "        truncation=True,       \n",
    "        max_length=512,       \n",
    "    )\n",
    "\n",
    "    preds = []\n",
    "    for text in tqdm(texts, desc=name):\n",
    "        ids = tokenizer(text, truncation=True, max_length=512)[\"input_ids\"]\n",
    "        short = tokenizer.decode(ids, skip_special_tokens=True)\n",
    "        out = summarizer(\n",
    "            short,\n",
    "            max_length=150,\n",
    "            min_length=30,\n",
    "            num_beams=4,\n",
    "            length_penalty=2.0,\n",
    "            no_repeat_ngram_size=3,\n",
    "            early_stopping=True,\n",
    "        )\n",
    "        preds.append(out[0][\"summary_text\"].strip())\n",
    "\n",
    "    # ROUGE\n",
    "    scores = rouge.compute(predictions=preds, references=refs, use_stemmer=True)\n",
    "    scores = {k: v * 100 for k, v in scores.items()}\n",
    "    scores[\"model\"] = name\n",
    "    results.append(scores)"
   ],
   "id": "ec3e041c3c4df589",
   "outputs": [
    {
     "name": "stdout",
     "output_type": "stream",
     "text": [
      "→ Evaluating baseline\n"
     ]
    },
    {
     "name": "stderr",
     "output_type": "stream",
     "text": [
      "Device set to use cpu\n",
      "baseline: 100%|██████████| 49/49 [03:32<00:00,  4.33s/it]\n"
     ]
    },
    {
     "name": "stdout",
     "output_type": "stream",
     "text": [
      "→ Evaluating bs2_lr3e-05_ep3\n"
     ]
    },
    {
     "name": "stderr",
     "output_type": "stream",
     "text": [
      "D:\\SciSumm-RAG\\venv\\Lib\\site-packages\\transformers\\models\\bart\\configuration_bart.py:177: UserWarning: Please make sure the config includes `forced_bos_token_id=0` in future versions. The config can simply be saved and uploaded again to be fixed.\n",
      "  warnings.warn(\n",
      "Device set to use cpu\n",
      "bs2_lr3e-05_ep3:   0%|          | 0/49 [00:00<?, ?it/s]Asking to truncate to max_length but no maximum length is provided and the model has no predefined maximum length. Default to no truncation.\n",
      "bs2_lr3e-05_ep3: 100%|██████████| 49/49 [10:44<00:00, 13.15s/it]\n"
     ]
    },
    {
     "name": "stdout",
     "output_type": "stream",
     "text": [
      "→ Evaluating bs2_lr5e-05_ep3\n"
     ]
    },
    {
     "name": "stderr",
     "output_type": "stream",
     "text": [
      "Device set to use cpu\n",
      "bs2_lr5e-05_ep3:   0%|          | 0/49 [00:00<?, ?it/s]Asking to truncate to max_length but no maximum length is provided and the model has no predefined maximum length. Default to no truncation.\n",
      "bs2_lr5e-05_ep3: 100%|██████████| 49/49 [11:15<00:00, 13.79s/it]\n"
     ]
    },
    {
     "name": "stdout",
     "output_type": "stream",
     "text": [
      "→ Evaluating bs2_lr5e-05_ep5\n"
     ]
    },
    {
     "name": "stderr",
     "output_type": "stream",
     "text": [
      "Device set to use cpu\n",
      "bs2_lr5e-05_ep5:   0%|          | 0/49 [00:00<?, ?it/s]Asking to truncate to max_length but no maximum length is provided and the model has no predefined maximum length. Default to no truncation.\n",
      "bs2_lr5e-05_ep5: 100%|██████████| 49/49 [10:23<00:00, 12.73s/it]\n"
     ]
    }
   ],
   "execution_count": 6
  },
  {
   "metadata": {
    "ExecuteTime": {
     "end_time": "2025-07-13T16:40:48.797984Z",
     "start_time": "2025-07-13T16:40:48.744966Z"
    }
   },
   "cell_type": "code",
   "source": [
    "df_res = pd.DataFrame(results).set_index(\"model\")\n",
    "df_res"
   ],
   "id": "df98b13c4af1bfc1",
   "outputs": [
    {
     "data": {
      "text/plain": [
       "                    rouge1     rouge2     rougeL  rougeLsum\n",
       "model                                                      \n",
       "baseline         32.629141  25.525985  28.901312  28.970579\n",
       "bs2_lr3e-05_ep3  79.983962  75.154015  78.805517  78.476785\n",
       "bs2_lr5e-05_ep3  80.992784  76.506400  80.116131  79.773830\n",
       "bs2_lr5e-05_ep5  81.066995  76.194872  79.971792  79.591498"
      ],
      "text/html": [
       "<div>\n",
       "<style scoped>\n",
       "    .dataframe tbody tr th:only-of-type {\n",
       "        vertical-align: middle;\n",
       "    }\n",
       "\n",
       "    .dataframe tbody tr th {\n",
       "        vertical-align: top;\n",
       "    }\n",
       "\n",
       "    .dataframe thead th {\n",
       "        text-align: right;\n",
       "    }\n",
       "</style>\n",
       "<table border=\"1\" class=\"dataframe\">\n",
       "  <thead>\n",
       "    <tr style=\"text-align: right;\">\n",
       "      <th></th>\n",
       "      <th>rouge1</th>\n",
       "      <th>rouge2</th>\n",
       "      <th>rougeL</th>\n",
       "      <th>rougeLsum</th>\n",
       "    </tr>\n",
       "    <tr>\n",
       "      <th>model</th>\n",
       "      <th></th>\n",
       "      <th></th>\n",
       "      <th></th>\n",
       "      <th></th>\n",
       "    </tr>\n",
       "  </thead>\n",
       "  <tbody>\n",
       "    <tr>\n",
       "      <th>baseline</th>\n",
       "      <td>32.629141</td>\n",
       "      <td>25.525985</td>\n",
       "      <td>28.901312</td>\n",
       "      <td>28.970579</td>\n",
       "    </tr>\n",
       "    <tr>\n",
       "      <th>bs2_lr3e-05_ep3</th>\n",
       "      <td>79.983962</td>\n",
       "      <td>75.154015</td>\n",
       "      <td>78.805517</td>\n",
       "      <td>78.476785</td>\n",
       "    </tr>\n",
       "    <tr>\n",
       "      <th>bs2_lr5e-05_ep3</th>\n",
       "      <td>80.992784</td>\n",
       "      <td>76.506400</td>\n",
       "      <td>80.116131</td>\n",
       "      <td>79.773830</td>\n",
       "    </tr>\n",
       "    <tr>\n",
       "      <th>bs2_lr5e-05_ep5</th>\n",
       "      <td>81.066995</td>\n",
       "      <td>76.194872</td>\n",
       "      <td>79.971792</td>\n",
       "      <td>79.591498</td>\n",
       "    </tr>\n",
       "  </tbody>\n",
       "</table>\n",
       "</div>"
      ]
     },
     "execution_count": 7,
     "metadata": {},
     "output_type": "execute_result"
    }
   ],
   "execution_count": 7
  },
  {
   "metadata": {
    "ExecuteTime": {
     "end_time": "2025-07-13T16:41:26.645226Z",
     "start_time": "2025-07-13T16:41:26.615923Z"
    }
   },
   "cell_type": "code",
   "source": [
    "out_csv = FT_ROOT / \"validation_comparison.csv\"\n",
    "df_res.to_csv(out_csv)\n",
    "print(\"Saved results to\", out_csv)"
   ],
   "id": "a3c51301551a6c53",
   "outputs": [
    {
     "name": "stdout",
     "output_type": "stream",
     "text": [
      "Saved results to D:\\SciSumm-RAG\\experiments\\bart-finetune\\validation_comparison.csv\n"
     ]
    }
   ],
   "execution_count": 8
  }
 ],
 "metadata": {
  "kernelspec": {
   "display_name": "Python 3",
   "language": "python",
   "name": "python3"
  },
  "language_info": {
   "codemirror_mode": {
    "name": "ipython",
    "version": 2
   },
   "file_extension": ".py",
   "mimetype": "text/x-python",
   "name": "python",
   "nbconvert_exporter": "python",
   "pygments_lexer": "ipython2",
   "version": "2.7.6"
  }
 },
 "nbformat": 4,
 "nbformat_minor": 5
}
